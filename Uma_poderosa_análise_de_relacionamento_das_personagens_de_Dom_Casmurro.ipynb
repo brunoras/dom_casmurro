{
  "nbformat": 4,
  "nbformat_minor": 0,
  "metadata": {
    "colab": {
      "name": "Uma poderosa análise de relacionamento das personagens de Dom Casmurro.ipynb",
      "provenance": [],
      "collapsed_sections": [],
      "mount_file_id": "1H3TMgvultroy5Z_prpd8HJUFvz0ZpPZi",
      "authorship_tag": "ABX9TyPQd3dXpPmKt0W5TXvuuGm/",
      "include_colab_link": true
    },
    "kernelspec": {
      "name": "python3",
      "display_name": "Python 3"
    },
    "language_info": {
      "name": "python"
    }
  },
  "cells": [
    {
      "cell_type": "markdown",
      "metadata": {
        "id": "view-in-github",
        "colab_type": "text"
      },
      "source": [
        "<a href=\"https://colab.research.google.com/github/brunoras/dom_casmurro/blob/main/Uma_poderosa_an%C3%A1lise_de_relacionamento_das_personagens_de_Dom_Casmurro.ipynb\" target=\"_parent\"><img src=\"https://colab.research.google.com/assets/colab-badge.svg\" alt=\"Open In Colab\"/></a>"
      ]
    },
    {
      "cell_type": "markdown",
      "source": [
        "# Uma poderosa análise de relacionamento das personagens de Dom Casmurro"
      ],
      "metadata": {
        "id": "v-U2r9XfBNFQ"
      }
    },
    {
      "cell_type": "markdown",
      "source": [
        "Reconhecer nomes de pessoas, locais, organizações em textos, principalmente quando temos texto longos ou muitos textos, é uma tarefa valiosa, pois com essa informação podemos fazer análises como feedback, recomendações, resumos, etc.\n",
        "\n",
        "Identificando nomes de pessoas dentro de uma história, conseguimos fazer relações de proximidade entre os personagens, determinando quem tem mais amigos ou quem tem uma rede de contatos maior, por exemplo. Até mesmo podemos agrupar os personagens em comunidades, separadas pelo grau de comunicação entre as entidades.\n",
        "\n",
        "Iremos fazer exatamente isto com a obra Dom Casmurro de Machado de Assis."
      ],
      "metadata": {
        "id": "9COdI4j4BRCh"
      }
    },
    {
      "cell_type": "markdown",
      "source": [
        "## Personagens"
      ],
      "metadata": {
        "id": "Dv0nlxEmCQ_L"
      }
    },
    {
      "cell_type": "markdown",
      "source": [
        "* **Bento Santiago (Bentinho)**: protagonista e narrador da história.\n",
        "* **Capitolina (Capitú)**: vizinha e grande amor de Bento.\n",
        "* **D. Glória**: mãe de Bento.\n",
        "* **Pedro de Albuquerque Santiago**: pai falecido de Bento.\n",
        "* **José Dias**: médico agregado na casa de Dona Glória.\n",
        "* **Cosme**: tio de Bento, advogado e irmão de Dona Glória.\n",
        "* **Justina**: prima de Dona Glória.\n",
        "* **Senhor Pádua**: pai de Capitu.\n",
        "* **D. Fortunata**: mãe de Capitu.\n",
        "* **Escobar**: melhor amigo de Bento no seminário.\n",
        "* **Sancha**: amiga de Capitu e mulher de Escobar.\n",
        "* **Ezequiel**: filho de Bento e Capitu.\n",
        "* **Padre Cabral**: quem encontra a solução para o caso de Bentinho."
      ],
      "metadata": {
        "id": "WI5qgKORCTqV"
      }
    },
    {
      "cell_type": "code",
      "source": [
        "personagens = ['Bentinho', 'Capitú', 'D. Gloria', 'Pedro',\n",
        "               'José Dias', 'Cosme', 'Justina', 'Padua',\n",
        "               'D. Fortunata', 'Escobar', 'Sancha',\n",
        "               'Ezequiel', 'Cabral']"
      ],
      "metadata": {
        "id": "kzQLaF8CI4uf"
      },
      "execution_count": null,
      "outputs": []
    },
    {
      "cell_type": "markdown",
      "source": [
        "## Importações"
      ],
      "metadata": {
        "id": "T22hXCMTBW0m"
      }
    },
    {
      "cell_type": "code",
      "source": [
        "!pip install pyvis"
      ],
      "metadata": {
        "id": "CEkE9hN93fRV",
        "colab": {
          "base_uri": "https://localhost:8080/"
        },
        "outputId": "49b2eba3-832c-4af5-e1f3-0ef863a9614b"
      },
      "execution_count": null,
      "outputs": [
        {
          "output_type": "stream",
          "name": "stdout",
          "text": [
            "Looking in indexes: https://pypi.org/simple, https://us-python.pkg.dev/colab-wheels/public/simple/\n",
            "Requirement already satisfied: pyvis in /usr/local/lib/python3.7/dist-packages (0.2.1)\n",
            "Requirement already satisfied: jsonpickle>=1.4.1 in /usr/local/lib/python3.7/dist-packages (from pyvis) (2.2.0)\n",
            "Requirement already satisfied: networkx>=1.11 in /usr/local/lib/python3.7/dist-packages (from pyvis) (2.6.3)\n",
            "Requirement already satisfied: ipython>=5.3.0 in /usr/local/lib/python3.7/dist-packages (from pyvis) (5.5.0)\n",
            "Requirement already satisfied: jinja2>=2.9.6 in /usr/local/lib/python3.7/dist-packages (from pyvis) (2.11.3)\n",
            "Requirement already satisfied: pexpect in /usr/local/lib/python3.7/dist-packages (from ipython>=5.3.0->pyvis) (4.8.0)\n",
            "Requirement already satisfied: pygments in /usr/local/lib/python3.7/dist-packages (from ipython>=5.3.0->pyvis) (2.6.1)\n",
            "Requirement already satisfied: traitlets>=4.2 in /usr/local/lib/python3.7/dist-packages (from ipython>=5.3.0->pyvis) (5.1.1)\n",
            "Requirement already satisfied: setuptools>=18.5 in /usr/local/lib/python3.7/dist-packages (from ipython>=5.3.0->pyvis) (57.4.0)\n",
            "Requirement already satisfied: decorator in /usr/local/lib/python3.7/dist-packages (from ipython>=5.3.0->pyvis) (4.4.2)\n",
            "Requirement already satisfied: prompt-toolkit<2.0.0,>=1.0.4 in /usr/local/lib/python3.7/dist-packages (from ipython>=5.3.0->pyvis) (1.0.18)\n",
            "Requirement already satisfied: pickleshare in /usr/local/lib/python3.7/dist-packages (from ipython>=5.3.0->pyvis) (0.7.5)\n",
            "Requirement already satisfied: simplegeneric>0.8 in /usr/local/lib/python3.7/dist-packages (from ipython>=5.3.0->pyvis) (0.8.1)\n",
            "Requirement already satisfied: MarkupSafe>=0.23 in /usr/local/lib/python3.7/dist-packages (from jinja2>=2.9.6->pyvis) (2.0.1)\n",
            "Requirement already satisfied: importlib-metadata in /usr/local/lib/python3.7/dist-packages (from jsonpickle>=1.4.1->pyvis) (4.11.4)\n",
            "Requirement already satisfied: six>=1.9.0 in /usr/local/lib/python3.7/dist-packages (from prompt-toolkit<2.0.0,>=1.0.4->ipython>=5.3.0->pyvis) (1.15.0)\n",
            "Requirement already satisfied: wcwidth in /usr/local/lib/python3.7/dist-packages (from prompt-toolkit<2.0.0,>=1.0.4->ipython>=5.3.0->pyvis) (0.2.5)\n",
            "Requirement already satisfied: typing-extensions>=3.6.4 in /usr/local/lib/python3.7/dist-packages (from importlib-metadata->jsonpickle>=1.4.1->pyvis) (4.1.1)\n",
            "Requirement already satisfied: zipp>=0.5 in /usr/local/lib/python3.7/dist-packages (from importlib-metadata->jsonpickle>=1.4.1->pyvis) (3.8.0)\n",
            "Requirement already satisfied: ptyprocess>=0.5 in /usr/local/lib/python3.7/dist-packages (from pexpect->ipython>=5.3.0->pyvis) (0.7.0)\n"
          ]
        }
      ]
    },
    {
      "cell_type": "code",
      "execution_count": null,
      "metadata": {
        "id": "MbADHEEHBIFL"
      },
      "outputs": [],
      "source": [
        "import pandas as pd\n",
        "import numpy as np\n",
        "import spacy\n",
        "from spacy import displacy\n",
        "import networkx as nx\n",
        "import matplotlib.pyplot as plt\n",
        "\n",
        "import os\n",
        "from pyvis.network import Network\n",
        "import community.community_louvain as community_louvain"
      ]
    },
    {
      "cell_type": "code",
      "source": [
        "!python -m spacy download pt_core_news_sm"
      ],
      "metadata": {
        "id": "5M4E0RVyEA8H",
        "colab": {
          "base_uri": "https://localhost:8080/"
        },
        "outputId": "25388939-78c6-4011-933a-ef888a8b579b"
      },
      "execution_count": null,
      "outputs": [
        {
          "output_type": "stream",
          "name": "stdout",
          "text": [
            "Looking in indexes: https://pypi.org/simple, https://us-python.pkg.dev/colab-wheels/public/simple/\n",
            "Collecting pt-core-news-sm==3.3.0\n",
            "  Downloading https://github.com/explosion/spacy-models/releases/download/pt_core_news_sm-3.3.0/pt_core_news_sm-3.3.0-py3-none-any.whl (13.0 MB)\n",
            "\u001b[K     |████████████████████████████████| 13.0 MB 3.7 MB/s \n",
            "\u001b[?25hRequirement already satisfied: spacy<3.4.0,>=3.3.0.dev0 in /usr/local/lib/python3.7/dist-packages (from pt-core-news-sm==3.3.0) (3.3.1)\n",
            "Requirement already satisfied: wasabi<1.1.0,>=0.9.1 in /usr/local/lib/python3.7/dist-packages (from spacy<3.4.0,>=3.3.0.dev0->pt-core-news-sm==3.3.0) (0.9.1)\n",
            "Requirement already satisfied: srsly<3.0.0,>=2.4.3 in /usr/local/lib/python3.7/dist-packages (from spacy<3.4.0,>=3.3.0.dev0->pt-core-news-sm==3.3.0) (2.4.3)\n",
            "Requirement already satisfied: pydantic!=1.8,!=1.8.1,<1.9.0,>=1.7.4 in /usr/local/lib/python3.7/dist-packages (from spacy<3.4.0,>=3.3.0.dev0->pt-core-news-sm==3.3.0) (1.8.2)\n",
            "Requirement already satisfied: pathy>=0.3.5 in /usr/local/lib/python3.7/dist-packages (from spacy<3.4.0,>=3.3.0.dev0->pt-core-news-sm==3.3.0) (0.6.1)\n",
            "Requirement already satisfied: requests<3.0.0,>=2.13.0 in /usr/local/lib/python3.7/dist-packages (from spacy<3.4.0,>=3.3.0.dev0->pt-core-news-sm==3.3.0) (2.23.0)\n",
            "Requirement already satisfied: numpy>=1.15.0 in /usr/local/lib/python3.7/dist-packages (from spacy<3.4.0,>=3.3.0.dev0->pt-core-news-sm==3.3.0) (1.21.6)\n",
            "Requirement already satisfied: catalogue<2.1.0,>=2.0.6 in /usr/local/lib/python3.7/dist-packages (from spacy<3.4.0,>=3.3.0.dev0->pt-core-news-sm==3.3.0) (2.0.7)\n",
            "Requirement already satisfied: cymem<2.1.0,>=2.0.2 in /usr/local/lib/python3.7/dist-packages (from spacy<3.4.0,>=3.3.0.dev0->pt-core-news-sm==3.3.0) (2.0.6)\n",
            "Requirement already satisfied: packaging>=20.0 in /usr/local/lib/python3.7/dist-packages (from spacy<3.4.0,>=3.3.0.dev0->pt-core-news-sm==3.3.0) (21.3)\n",
            "Requirement already satisfied: tqdm<5.0.0,>=4.38.0 in /usr/local/lib/python3.7/dist-packages (from spacy<3.4.0,>=3.3.0.dev0->pt-core-news-sm==3.3.0) (4.64.0)\n",
            "Requirement already satisfied: murmurhash<1.1.0,>=0.28.0 in /usr/local/lib/python3.7/dist-packages (from spacy<3.4.0,>=3.3.0.dev0->pt-core-news-sm==3.3.0) (1.0.7)\n",
            "Requirement already satisfied: typer<0.5.0,>=0.3.0 in /usr/local/lib/python3.7/dist-packages (from spacy<3.4.0,>=3.3.0.dev0->pt-core-news-sm==3.3.0) (0.4.1)\n",
            "Requirement already satisfied: preshed<3.1.0,>=3.0.2 in /usr/local/lib/python3.7/dist-packages (from spacy<3.4.0,>=3.3.0.dev0->pt-core-news-sm==3.3.0) (3.0.6)\n",
            "Requirement already satisfied: langcodes<4.0.0,>=3.2.0 in /usr/local/lib/python3.7/dist-packages (from spacy<3.4.0,>=3.3.0.dev0->pt-core-news-sm==3.3.0) (3.3.0)\n",
            "Requirement already satisfied: spacy-loggers<2.0.0,>=1.0.0 in /usr/local/lib/python3.7/dist-packages (from spacy<3.4.0,>=3.3.0.dev0->pt-core-news-sm==3.3.0) (1.0.2)\n",
            "Requirement already satisfied: spacy-legacy<3.1.0,>=3.0.9 in /usr/local/lib/python3.7/dist-packages (from spacy<3.4.0,>=3.3.0.dev0->pt-core-news-sm==3.3.0) (3.0.9)\n",
            "Requirement already satisfied: blis<0.8.0,>=0.4.0 in /usr/local/lib/python3.7/dist-packages (from spacy<3.4.0,>=3.3.0.dev0->pt-core-news-sm==3.3.0) (0.7.7)\n",
            "Requirement already satisfied: typing-extensions<4.2.0,>=3.7.4 in /usr/local/lib/python3.7/dist-packages (from spacy<3.4.0,>=3.3.0.dev0->pt-core-news-sm==3.3.0) (4.1.1)\n",
            "Requirement already satisfied: thinc<8.1.0,>=8.0.14 in /usr/local/lib/python3.7/dist-packages (from spacy<3.4.0,>=3.3.0.dev0->pt-core-news-sm==3.3.0) (8.0.17)\n",
            "Requirement already satisfied: jinja2 in /usr/local/lib/python3.7/dist-packages (from spacy<3.4.0,>=3.3.0.dev0->pt-core-news-sm==3.3.0) (2.11.3)\n",
            "Requirement already satisfied: setuptools in /usr/local/lib/python3.7/dist-packages (from spacy<3.4.0,>=3.3.0.dev0->pt-core-news-sm==3.3.0) (57.4.0)\n",
            "Requirement already satisfied: zipp>=0.5 in /usr/local/lib/python3.7/dist-packages (from catalogue<2.1.0,>=2.0.6->spacy<3.4.0,>=3.3.0.dev0->pt-core-news-sm==3.3.0) (3.8.0)\n",
            "Requirement already satisfied: pyparsing!=3.0.5,>=2.0.2 in /usr/local/lib/python3.7/dist-packages (from packaging>=20.0->spacy<3.4.0,>=3.3.0.dev0->pt-core-news-sm==3.3.0) (3.0.9)\n",
            "Requirement already satisfied: smart-open<6.0.0,>=5.0.0 in /usr/local/lib/python3.7/dist-packages (from pathy>=0.3.5->spacy<3.4.0,>=3.3.0.dev0->pt-core-news-sm==3.3.0) (5.2.1)\n",
            "Requirement already satisfied: chardet<4,>=3.0.2 in /usr/local/lib/python3.7/dist-packages (from requests<3.0.0,>=2.13.0->spacy<3.4.0,>=3.3.0.dev0->pt-core-news-sm==3.3.0) (3.0.4)\n",
            "Requirement already satisfied: urllib3!=1.25.0,!=1.25.1,<1.26,>=1.21.1 in /usr/local/lib/python3.7/dist-packages (from requests<3.0.0,>=2.13.0->spacy<3.4.0,>=3.3.0.dev0->pt-core-news-sm==3.3.0) (1.24.3)\n",
            "Requirement already satisfied: certifi>=2017.4.17 in /usr/local/lib/python3.7/dist-packages (from requests<3.0.0,>=2.13.0->spacy<3.4.0,>=3.3.0.dev0->pt-core-news-sm==3.3.0) (2022.6.15)\n",
            "Requirement already satisfied: idna<3,>=2.5 in /usr/local/lib/python3.7/dist-packages (from requests<3.0.0,>=2.13.0->spacy<3.4.0,>=3.3.0.dev0->pt-core-news-sm==3.3.0) (2.10)\n",
            "Requirement already satisfied: click<9.0.0,>=7.1.1 in /usr/local/lib/python3.7/dist-packages (from typer<0.5.0,>=0.3.0->spacy<3.4.0,>=3.3.0.dev0->pt-core-news-sm==3.3.0) (7.1.2)\n",
            "Requirement already satisfied: MarkupSafe>=0.23 in /usr/local/lib/python3.7/dist-packages (from jinja2->spacy<3.4.0,>=3.3.0.dev0->pt-core-news-sm==3.3.0) (2.0.1)\n",
            "\u001b[38;5;2m✔ Download and installation successful\u001b[0m\n",
            "You can now load the package via spacy.load('pt_core_news_sm')\n"
          ]
        }
      ]
    },
    {
      "cell_type": "code",
      "source": [
        "# Carregando o modelo do Spacy em pt-br\n",
        "NER = spacy.load('pt_core_news_sm')"
      ],
      "metadata": {
        "id": "4wH-FfXpE-tc"
      },
      "execution_count": null,
      "outputs": []
    },
    {
      "cell_type": "markdown",
      "source": [
        "## Named Entity Recognition (NER)"
      ],
      "metadata": {
        "id": "MyGyycaHD7qZ"
      }
    },
    {
      "cell_type": "code",
      "source": [
        "dir = \"/content/drive/MyDrive/Projeto Casmurro/\""
      ],
      "metadata": {
        "id": "V3QnLZ6KBeDG"
      },
      "execution_count": null,
      "outputs": []
    },
    {
      "cell_type": "code",
      "source": [
        "livro = [l for l in os.scandir(dir) if '.txt' in l.name]\n",
        "livro_txt = open(livro[0]).read()"
      ],
      "metadata": {
        "id": "rOnVgHEUD6uJ"
      },
      "execution_count": null,
      "outputs": []
    },
    {
      "cell_type": "markdown",
      "source": [
        "O NER é uma ferramenta para rotular objetos do \"mundo real\", como pessoas, companhias ou lugares."
      ],
      "metadata": {
        "id": "0W3J6BhH0L8m"
      }
    },
    {
      "cell_type": "code",
      "source": [
        "livro_doc = NER(livro_txt)"
      ],
      "metadata": {
        "id": "LFle1Jo5Gjl7"
      },
      "execution_count": null,
      "outputs": []
    },
    {
      "cell_type": "code",
      "source": [
        "displacy.render(livro_doc[0:2000], style='ent', jupyter=True)"
      ],
      "metadata": {
        "colab": {
          "base_uri": "https://localhost:8080/",
          "height": 1000
        },
        "id": "68sS4PZSHQ2X",
        "outputId": "35890807-b9dd-41af-d5f1-607609be484a"
      },
      "execution_count": null,
      "outputs": [
        {
          "output_type": "display_data",
          "data": {
            "text/plain": [
              "<IPython.core.display.HTML object>"
            ],
            "text/html": [
              "<span class=\"tex2jax_ignore\"><div class=\"entities\" style=\"line-height: 2.5; direction: ltr\">﻿I</br></br>Do titulo.</br></br>Uma noite destas, vindo da cidade para o \n",
              "<mark class=\"entity\" style=\"background: #ff9561; padding: 0.45em 0.6em; margin: 0 0.25em; line-height: 1; border-radius: 0.35em;\">\n",
              "    Engenho Novo\n",
              "    <span style=\"font-size: 0.8em; font-weight: bold; line-height: 1; border-radius: 0.35em; vertical-align: middle; margin-left: 0.5rem\">LOC</span>\n",
              "</mark>\n",
              ", encontrei no</br>trem da \n",
              "<mark class=\"entity\" style=\"background: #ff9561; padding: 0.45em 0.6em; margin: 0 0.25em; line-height: 1; border-radius: 0.35em;\">\n",
              "    Central\n",
              "    <span style=\"font-size: 0.8em; font-weight: bold; line-height: 1; border-radius: 0.35em; vertical-align: middle; margin-left: 0.5rem\">LOC</span>\n",
              "</mark>\n",
              " um rapaz aqui do bairro, que eu (\n",
              "<mark class=\"entity\" style=\"background: #ddd; padding: 0.45em 0.6em; margin: 0 0.25em; line-height: 1; border-radius: 0.35em;\">\n",
              "    Bentinho\n",
              "    <span style=\"font-size: 0.8em; font-weight: bold; line-height: 1; border-radius: 0.35em; vertical-align: middle; margin-left: 0.5rem\">PER</span>\n",
              "</mark>\n",
              ") conheço de vista e</br>de chapéo. Comprimentou-me, sentou-se ao pé de mim, falou da \n",
              "<mark class=\"entity\" style=\"background: #ff9561; padding: 0.45em 0.6em; margin: 0 0.25em; line-height: 1; border-radius: 0.35em;\">\n",
              "    lua\n",
              "    <span style=\"font-size: 0.8em; font-weight: bold; line-height: 1; border-radius: 0.35em; vertical-align: middle; margin-left: 0.5rem\">LOC</span>\n",
              "</mark>\n",
              " e</br>dos ministros, e acabou recitando-me versos. A viagem era curta, e os</br>versos póde ser que não fossem inteiramente maus. \n",
              "<mark class=\"entity\" style=\"background: #ff9561; padding: 0.45em 0.6em; margin: 0 0.25em; line-height: 1; border-radius: 0.35em;\">\n",
              "    Succedeu\n",
              "    <span style=\"font-size: 0.8em; font-weight: bold; line-height: 1; border-radius: 0.35em; vertical-align: middle; margin-left: 0.5rem\">LOC</span>\n",
              "</mark>\n",
              ", porém, que</br>como eu (Bentinho) estava cançado, fechei os olhos tres ou quatro vezes; tanto</br>bastou para que \n",
              "<mark class=\"entity\" style=\"background: #ff9561; padding: 0.45em 0.6em; margin: 0 0.25em; line-height: 1; border-radius: 0.35em;\">\n",
              "    elle\n",
              "    <span style=\"font-size: 0.8em; font-weight: bold; line-height: 1; border-radius: 0.35em; vertical-align: middle; margin-left: 0.5rem\">LOC</span>\n",
              "</mark>\n",
              " interrompesse a leitura e mettesse os versos no</br>bolso.</br></br>-- \n",
              "<mark class=\"entity\" style=\"background: #ff9561; padding: 0.45em 0.6em; margin: 0 0.25em; line-height: 1; border-radius: 0.35em;\">\n",
              "    Continue\n",
              "    <span style=\"font-size: 0.8em; font-weight: bold; line-height: 1; border-radius: 0.35em; vertical-align: middle; margin-left: 0.5rem\">LOC</span>\n",
              "</mark>\n",
              ", disse eu (\n",
              "<mark class=\"entity\" style=\"background: #ddd; padding: 0.45em 0.6em; margin: 0 0.25em; line-height: 1; border-radius: 0.35em;\">\n",
              "    Bentinho) accordando.\n",
              "    <span style=\"font-size: 0.8em; font-weight: bold; line-height: 1; border-radius: 0.35em; vertical-align: middle; margin-left: 0.5rem\">MISC</span>\n",
              "</mark>\n",
              "</br></br>-- Já acabei, murmurou \n",
              "<mark class=\"entity\" style=\"background: #ff9561; padding: 0.45em 0.6em; margin: 0 0.25em; line-height: 1; border-radius: 0.35em;\">\n",
              "    elle.\n",
              "    <span style=\"font-size: 0.8em; font-weight: bold; line-height: 1; border-radius: 0.35em; vertical-align: middle; margin-left: 0.5rem\">LOC</span>\n",
              "</mark>\n",
              "</br></br>-- São muito bonitos.</br></br>Vi-lhe fazer um gesto para tiral-os outra vez do bolso, mas não passou</br>do gesto; estava amuado. No dia seguinte entrou a dizer de mim nomes</br>feios, e acabou alcunhando-me _Dom Casmurro._ Os visinhos, que não</br>gostam dos meus habitos reclusos e calados, deram curso á alcunha, que</br>afinal pegou. Nem por isso me zanguei. Contei a anecdota aos amigos da</br>cidade, e elles, por graça, chamam-me assim, alguns em bilhetes: «Dom</br>Casmurro, domingo vou jantar com você.» -- «\n",
              "<mark class=\"entity\" style=\"background: #ff9561; padding: 0.45em 0.6em; margin: 0 0.25em; line-height: 1; border-radius: 0.35em;\">\n",
              "    Vou\n",
              "    <span style=\"font-size: 0.8em; font-weight: bold; line-height: 1; border-radius: 0.35em; vertical-align: middle; margin-left: 0.5rem\">LOC</span>\n",
              "</mark>\n",
              " para \n",
              "<mark class=\"entity\" style=\"background: #ff9561; padding: 0.45em 0.6em; margin: 0 0.25em; line-height: 1; border-radius: 0.35em;\">\n",
              "    Petropolis\n",
              "    <span style=\"font-size: 0.8em; font-weight: bold; line-height: 1; border-radius: 0.35em; vertical-align: middle; margin-left: 0.5rem\">LOC</span>\n",
              "</mark>\n",
              ", \n",
              "<mark class=\"entity\" style=\"background: #ff9561; padding: 0.45em 0.6em; margin: 0 0.25em; line-height: 1; border-radius: 0.35em;\">\n",
              "    Dom\n",
              "Casmurro\n",
              "    <span style=\"font-size: 0.8em; font-weight: bold; line-height: 1; border-radius: 0.35em; vertical-align: middle; margin-left: 0.5rem\">LOC</span>\n",
              "</mark>\n",
              "; a casa é a mesma da \n",
              "<mark class=\"entity\" style=\"background: #ff9561; padding: 0.45em 0.6em; margin: 0 0.25em; line-height: 1; border-radius: 0.35em;\">\n",
              "    Rhenania\n",
              "    <span style=\"font-size: 0.8em; font-weight: bold; line-height: 1; border-radius: 0.35em; vertical-align: middle; margin-left: 0.5rem\">LOC</span>\n",
              "</mark>\n",
              "; vê se deixas essa caverna do</br>\n",
              "<mark class=\"entity\" style=\"background: #ddd; padding: 0.45em 0.6em; margin: 0 0.25em; line-height: 1; border-radius: 0.35em;\">\n",
              "    Engenho Novo\n",
              "    <span style=\"font-size: 0.8em; font-weight: bold; line-height: 1; border-radius: 0.35em; vertical-align: middle; margin-left: 0.5rem\">PER</span>\n",
              "</mark>\n",
              ", e vae lá passar uns quinze dias commigo.» -- «Meu caro \n",
              "<mark class=\"entity\" style=\"background: #ddd; padding: 0.45em 0.6em; margin: 0 0.25em; line-height: 1; border-radius: 0.35em;\">\n",
              "    Dom\n",
              "Casmurro\n",
              "    <span style=\"font-size: 0.8em; font-weight: bold; line-height: 1; border-radius: 0.35em; vertical-align: middle; margin-left: 0.5rem\">PER</span>\n",
              "</mark>\n",
              ", não cuide que o dispenso do theatro amanhã; venha e dormirá</br>aqui na cidade; dou-lhe camarote, dou-lhe chá, dou-lhe cama; só não lhe</br>dou moça.»</br></br>Não consultes diccionarios. _Casmurro_ não está aqui no sentido que</br>elles lhe dão, mas no que lhe poz o vulgo de homem calado e mettido</br>comsigo. \n",
              "<mark class=\"entity\" style=\"background: #ff9561; padding: 0.45em 0.6em; margin: 0 0.25em; line-height: 1; border-radius: 0.35em;\">\n",
              "    _Dom\n",
              "    <span style=\"font-size: 0.8em; font-weight: bold; line-height: 1; border-radius: 0.35em; vertical-align: middle; margin-left: 0.5rem\">LOC</span>\n",
              "</mark>\n",
              "_ veiu por ironia, para attribuir-me fumos de fidalgo.</br>Tudo por estar cochilando! \n",
              "<mark class=\"entity\" style=\"background: #ff9561; padding: 0.45em 0.6em; margin: 0 0.25em; line-height: 1; border-radius: 0.35em;\">\n",
              "    Tambem\n",
              "    <span style=\"font-size: 0.8em; font-weight: bold; line-height: 1; border-radius: 0.35em; vertical-align: middle; margin-left: 0.5rem\">LOC</span>\n",
              "</mark>\n",
              " não achei melhor titulo para a minha</br>narração; se não tiver outro d'aqui até ao fim do livro, vae este</br>mesmo. O meu poeta do trem ficará sabendo que não lhe \n",
              "<mark class=\"entity\" style=\"background: #ddd; padding: 0.45em 0.6em; margin: 0 0.25em; line-height: 1; border-radius: 0.35em;\">\n",
              "    guardo rancor\n",
              "    <span style=\"font-size: 0.8em; font-weight: bold; line-height: 1; border-radius: 0.35em; vertical-align: middle; margin-left: 0.5rem\">PER</span>\n",
              "</mark>\n",
              ".</br>E com pequeno esforço, sendo o titulo seu, poderá cuidar que a obra</br>é sua. Ha livros que apenas terão isso dos seus autores; alguns nem</br>tanto.</br></br></br></br></br>II.</br></br>Do livro.</br></br>Agora que expliquei o titulo, passo a escrever o livro. Antes disso,</br>porém, digamos os motivos que me põem a penna na mão.</br></br>\n",
              "<mark class=\"entity\" style=\"background: #7aecec; padding: 0.45em 0.6em; margin: 0 0.25em; line-height: 1; border-radius: 0.35em;\">\n",
              "    Vivo\n",
              "    <span style=\"font-size: 0.8em; font-weight: bold; line-height: 1; border-radius: 0.35em; vertical-align: middle; margin-left: 0.5rem\">ORG</span>\n",
              "</mark>\n",
              " só, com um creado. A casa em que moro é propria; fil-a</br>construir de proposito, levado de um desejo tão particular que me</br>vexa imprimil-o, mas vá lá. Um dia, ha bastantes annos, lembrou-me</br>reproduzir no \n",
              "<mark class=\"entity\" style=\"background: #ff9561; padding: 0.45em 0.6em; margin: 0 0.25em; line-height: 1; border-radius: 0.35em;\">\n",
              "    Engenho Novo\n",
              "    <span style=\"font-size: 0.8em; font-weight: bold; line-height: 1; border-radius: 0.35em; vertical-align: middle; margin-left: 0.5rem\">LOC</span>\n",
              "</mark>\n",
              " a casa em que me criei na antiga rua de</br>Matacavallos, dando-lhe o mesmo aspecto e economia \n",
              "<mark class=\"entity\" style=\"background: #ddd; padding: 0.45em 0.6em; margin: 0 0.25em; line-height: 1; border-radius: 0.35em;\">\n",
              "    daquella\n",
              "    <span style=\"font-size: 0.8em; font-weight: bold; line-height: 1; border-radius: 0.35em; vertical-align: middle; margin-left: 0.5rem\">PER</span>\n",
              "</mark>\n",
              " outra,</br>que desappareceu. \n",
              "<mark class=\"entity\" style=\"background: #ddd; padding: 0.45em 0.6em; margin: 0 0.25em; line-height: 1; border-radius: 0.35em;\">\n",
              "    Constructor\n",
              "    <span style=\"font-size: 0.8em; font-weight: bold; line-height: 1; border-radius: 0.35em; vertical-align: middle; margin-left: 0.5rem\">PER</span>\n",
              "</mark>\n",
              " e pintor entenderam bem as indicações</br>que lhes fiz: é o mesmo predio assobradado, tres janellas de frente,</br>varanda ao fundo, as mesmas alcovas e salas. Na principal destas, a</br>pintura do tecto e das paredes é mais ou menos egual, umas grinaldas de</br>flores miudas e grandes passaros que as tomam nos bicos, de espaço a</br>espaço. Nos quatro cantos do tecto as figuras das estações, e ao centro</br>das paredes os medalhões de \n",
              "<mark class=\"entity\" style=\"background: #ddd; padding: 0.45em 0.6em; margin: 0 0.25em; line-height: 1; border-radius: 0.35em;\">\n",
              "    Cesar\n",
              "    <span style=\"font-size: 0.8em; font-weight: bold; line-height: 1; border-radius: 0.35em; vertical-align: middle; margin-left: 0.5rem\">PER</span>\n",
              "</mark>\n",
              ", \n",
              "<mark class=\"entity\" style=\"background: #ddd; padding: 0.45em 0.6em; margin: 0 0.25em; line-height: 1; border-radius: 0.35em;\">\n",
              "    Augusto\n",
              "    <span style=\"font-size: 0.8em; font-weight: bold; line-height: 1; border-radius: 0.35em; vertical-align: middle; margin-left: 0.5rem\">PER</span>\n",
              "</mark>\n",
              ", \n",
              "<mark class=\"entity\" style=\"background: #ddd; padding: 0.45em 0.6em; margin: 0 0.25em; line-height: 1; border-radius: 0.35em;\">\n",
              "    Nero\n",
              "    <span style=\"font-size: 0.8em; font-weight: bold; line-height: 1; border-radius: 0.35em; vertical-align: middle; margin-left: 0.5rem\">PER</span>\n",
              "</mark>\n",
              " e \n",
              "<mark class=\"entity\" style=\"background: #ddd; padding: 0.45em 0.6em; margin: 0 0.25em; line-height: 1; border-radius: 0.35em;\">\n",
              "    Massinissa\n",
              "    <span style=\"font-size: 0.8em; font-weight: bold; line-height: 1; border-radius: 0.35em; vertical-align: middle; margin-left: 0.5rem\">PER</span>\n",
              "</mark>\n",
              ", com os</br>nomes por baixo... Não alcanço a razão de taes personagens. Quando</br>fomos para a \n",
              "<mark class=\"entity\" style=\"background: #ddd; padding: 0.45em 0.6em; margin: 0 0.25em; line-height: 1; border-radius: 0.35em;\">\n",
              "    casa de Matacavallos\n",
              "    <span style=\"font-size: 0.8em; font-weight: bold; line-height: 1; border-radius: 0.35em; vertical-align: middle; margin-left: 0.5rem\">PER</span>\n",
              "</mark>\n",
              ", já ella estava assim decorada; vinha</br>do decennio anterior. Naturalmente era gosto do tempo metter sabor</br>classico e figuras antigas em pinturas americanas. O mais é tambem</br>analogo e parecido. \n",
              "<mark class=\"entity\" style=\"background: #ddd; padding: 0.45em 0.6em; margin: 0 0.25em; line-height: 1; border-radius: 0.35em;\">\n",
              "    Tenho\n",
              "    <span style=\"font-size: 0.8em; font-weight: bold; line-height: 1; border-radius: 0.35em; vertical-align: middle; margin-left: 0.5rem\">PER</span>\n",
              "</mark>\n",
              " chacarinha, flôres, legume, uma casuarina, um</br>poço e lavadouro. Uso louça velha e mobilia velha. Emfim, agora, como</br>outr'ora, ha aqui o mesmo contraste da vida interior, que é pacata, com</br>a exterior, que é ruidosa.</br></br>O meu fim evidente era atar as duas pontas da vida, e restaurar na</br>velhice a adolescencia. Pois, senhor, não consegui recompor o que foi</br>nem o que fui. Em tudo, se o rosto é egual, a physionomia é differente.</br>Se só me faltassem os outros, vá; um homem consola-se mais ou menos</br>das pessoas que perde; mas falto eu (Bentinho) mesmo, e esta lacuna é tudo. O que</br>aqui está é, mal comparando, semelhante á pintura que se põe na barba e</br>nos cabellos, e que apenas conserva o habito externo, como se diz nas</br>autopsias; o interno não aguenta tinta. Uma certidão que me desse vinte</br>annos de edade poderia enganar os extranhos, como todos os documentos</br>falsos, mas não a mim. Os amigos que me restam são de data recente;</br>todos os antigos foram estudar a geologia dos campos santos. Quanto ás</br>amigas, algumas datam de quinze annos, outras de menos, e quasi todas</br>creem na mocidade. Duas ou tres fariam crer nella aos outros, mas a</br>lingua que falam obriga muita vez a consultar os diccionarios, e tal</br>frequencia é cançativa.</br></br>Entretanto, vida differente não quer dizer vida peor; é outra cousa.</br>A certos respeitos, aquella vida antiga apparece-me despida de muitos</br>encantos que lhe achei; mas é tambem exacto que perdeu muito espinho</br>que a fez molesta, e, de memoria, conservo alguma recordação doce e</br>feiticeira. Em verdade, pouco appareco e menos falo. Distracções raras.</br>O mais do tempo é gasto em hortar, jardinar e ler; como bem e não durmo</br>mal.</br></br>Ora, como tudo cança, esta monotonia acabou por exhaurir-me tambem.</br>Quiz variar, e lembrou-me escrever um livro. Jurisprudencia,</br>philosophia e politica acudiram-me, mas não me acudiram as forças</br>necessarias. Depois, pensei em fazer uma _\n",
              "<mark class=\"entity\" style=\"background: #ff9561; padding: 0.45em 0.6em; margin: 0 0.25em; line-height: 1; border-radius: 0.35em;\">\n",
              "    Historia\n",
              "    <span style=\"font-size: 0.8em; font-weight: bold; line-height: 1; border-radius: 0.35em; vertical-align: middle; margin-left: 0.5rem\">LOC</span>\n",
              "</mark>\n",
              " dos Suburbios_,</br>menos secca que as memorias do padre \n",
              "<mark class=\"entity\" style=\"background: #ddd; padding: 0.45em 0.6em; margin: 0 0.25em; line-height: 1; border-radius: 0.35em;\">\n",
              "    Luiz Gonçalves dos Santos\n",
              "    <span style=\"font-size: 0.8em; font-weight: bold; line-height: 1; border-radius: 0.35em; vertical-align: middle; margin-left: 0.5rem\">PER</span>\n",
              "</mark>\n",
              ",</br>relativas á cidade; era obra modesta, mas exigia documentos e datas,</br>como preliminares, tudo arido e longo. Foi então que os bustos pintados</br>nas paredes entraram a falar-me e a dizer-me que, uma vez que elles não</br>alcançavam reconstituir-me os tempos idos, pegasse da \n",
              "<mark class=\"entity\" style=\"background: #ff9561; padding: 0.45em 0.6em; margin: 0 0.25em; line-height: 1; border-radius: 0.35em;\">\n",
              "    penna\n",
              "    <span style=\"font-size: 0.8em; font-weight: bold; line-height: 1; border-radius: 0.35em; vertical-align: middle; margin-left: 0.5rem\">LOC</span>\n",
              "</mark>\n",
              " e contasse</br>alguns. Talvez a narração me désse a illusão, e as sombras viessem</br>perpassar ligeiras, como ao poeta, não o do trem, mas o do \n",
              "<mark class=\"entity\" style=\"background: #ff9561; padding: 0.45em 0.6em; margin: 0 0.25em; line-height: 1; border-radius: 0.35em;\">\n",
              "    _Fausto:\n",
              "    <span style=\"font-size: 0.8em; font-weight: bold; line-height: 1; border-radius: 0.35em; vertical-align: middle; margin-left: 0.5rem\">LOC</span>\n",
              "</mark>\n",
              " Ahi</br>vindes outra vez, inquietas sombras...?_</br></br>Fiquei tão alegre com esta ideia, que ainda agora me treme a penna na</br>mão. Sim, \n",
              "<mark class=\"entity\" style=\"background: #ddd; padding: 0.45em 0.6em; margin: 0 0.25em; line-height: 1; border-radius: 0.35em;\">\n",
              "    Nero\n",
              "    <span style=\"font-size: 0.8em; font-weight: bold; line-height: 1; border-radius: 0.35em; vertical-align: middle; margin-left: 0.5rem\">PER</span>\n",
              "</mark>\n",
              ", \n",
              "<mark class=\"entity\" style=\"background: #ddd; padding: 0.45em 0.6em; margin: 0 0.25em; line-height: 1; border-radius: 0.35em;\">\n",
              "    Augusto\n",
              "    <span style=\"font-size: 0.8em; font-weight: bold; line-height: 1; border-radius: 0.35em; vertical-align: middle; margin-left: 0.5rem\">PER</span>\n",
              "</mark>\n",
              ", \n",
              "<mark class=\"entity\" style=\"background: #ddd; padding: 0.45em 0.6em; margin: 0 0.25em; line-height: 1; border-radius: 0.35em;\">\n",
              "    Massinissa\n",
              "    <span style=\"font-size: 0.8em; font-weight: bold; line-height: 1; border-radius: 0.35em; vertical-align: middle; margin-left: 0.5rem\">PER</span>\n",
              "</mark>\n",
              ", e tu, grande Cesar, que me incitas</br>a fazer os meus commentarios, agradeço-vos o conselho, e vou deitar ao</br>papel as reminiscencias que me vierem vindo. Deste modo, viverei o que</br>vivi, e assentarei a mão para alguma obra de maior tomo. Eia, comecemos</br>a evocação por uma celebre tarde de \n",
              "<mark class=\"entity\" style=\"background: #ddd; padding: 0.45em 0.6em; margin: 0 0.25em; line-height: 1; border-radius: 0.35em;\">\n",
              "    Novembro\n",
              "    <span style=\"font-size: 0.8em; font-weight: bold; line-height: 1; border-radius: 0.35em; vertical-align: middle; margin-left: 0.5rem\">PER</span>\n",
              "</mark>\n",
              ", que nunca me esqueceu.</br>Tive outras muitas, melhores, e peores, mas \n",
              "<mark class=\"entity\" style=\"background: #ff9561; padding: 0.45em 0.6em; margin: 0 0.25em; line-height: 1; border-radius: 0.35em;\">\n",
              "    aquella\n",
              "    <span style=\"font-size: 0.8em; font-weight: bold; line-height: 1; border-radius: 0.35em; vertical-align: middle; margin-left: 0.5rem\">LOC</span>\n",
              "</mark>\n",
              " nunca se me apagou</br>do espirito. É o que vás entender, lendo.</br></br></br></br></br>\n",
              "<mark class=\"entity\" style=\"background: #ff9561; padding: 0.45em 0.6em; margin: 0 0.25em; line-height: 1; border-radius: 0.35em;\">\n",
              "    III\n",
              "\n",
              "\n",
              "    <span style=\"font-size: 0.8em; font-weight: bold; line-height: 1; border-radius: 0.35em; vertical-align: middle; margin-left: 0.5rem\">LOC</span>\n",
              "</mark>\n",
              "A denuncia.</br></br>Ia a entrar na sala de visitas, quando ouvi proferir o meu nome e</br>escondi-me atraz da porta. A casa era a da rua de Matacavallos, o mez</br>Novembro, o anno é que é um tanto remoto, mas eu (\n",
              "<mark class=\"entity\" style=\"background: #ddd; padding: 0.45em 0.6em; margin: 0 0.25em; line-height: 1; border-radius: 0.35em;\">\n",
              "    Bentinho\n",
              "    <span style=\"font-size: 0.8em; font-weight: bold; line-height: 1; border-radius: 0.35em; vertical-align: middle; margin-left: 0.5rem\">PER</span>\n",
              "</mark>\n",
              ") não hei de trocar as</br>datas á minha vida só para agradar ás pessoas que não \n",
              "<mark class=\"entity\" style=\"background: #ddd; padding: 0.45em 0.6em; margin: 0 0.25em; line-height: 1; border-radius: 0.35em;\">\n",
              "    amam\n",
              "    <span style=\"font-size: 0.8em; font-weight: bold; line-height: 1; border-radius: 0.35em; vertical-align: middle; margin-left: 0.5rem\">PER</span>\n",
              "</mark>\n",
              " historias</br>velhas; o \n",
              "<mark class=\"entity\" style=\"background: #ddd; padding: 0.45em 0.6em; margin: 0 0.25em; line-height: 1; border-radius: 0.35em;\">\n",
              "    anno\n",
              "    <span style=\"font-size: 0.8em; font-weight: bold; line-height: 1; border-radius: 0.35em; vertical-align: middle; margin-left: 0.5rem\">PER</span>\n",
              "</mark>\n",
              " era de 1857.</br></br>--  D. Gloria, a senhora persiste na ideia de metter o nosso \n",
              "<mark class=\"entity\" style=\"background: #ddd; padding: 0.45em 0.6em; margin: 0 0.25em; line-height: 1; border-radius: 0.35em;\">\n",
              "    Bentinho\n",
              "    <span style=\"font-size: 0.8em; font-weight: bold; line-height: 1; border-radius: 0.35em; vertical-align: middle; margin-left: 0.5rem\">PER</span>\n",
              "</mark>\n",
              " no</br>seminario? É mais que tempo, e já agora póde haver uma difficuldade.</br></br>-- Que difficuldade?</br></br>-- Uma grande difficuldade.</br></br>Minha mãe quiz saber o que era. \n",
              "<mark class=\"entity\" style=\"background: #ddd; padding: 0.45em 0.6em; margin: 0 0.25em; line-height: 1; border-radius: 0.35em;\">\n",
              "    José Dias\n",
              "    <span style=\"font-size: 0.8em; font-weight: bold; line-height: 1; border-radius: 0.35em; vertical-align: middle; margin-left: 0.5rem\">PER</span>\n",
              "</mark>\n",
              ", depois de alguns instantes</br>de concentrarão, veiu ver se havia alguem no corredor; não deu por mim,</br>voltou e, abafando a voz, disse que a difficuldade estava na casa ao</br>pé, a gente do \n",
              "<mark class=\"entity\" style=\"background: #ff9561; padding: 0.45em 0.6em; margin: 0 0.25em; line-height: 1; border-radius: 0.35em;\">\n",
              "    Padua\n",
              "    <span style=\"font-size: 0.8em; font-weight: bold; line-height: 1; border-radius: 0.35em; vertical-align: middle; margin-left: 0.5rem\">LOC</span>\n",
              "</mark>\n",
              ".</br></br>-- A gente do \n",
              "<mark class=\"entity\" style=\"background: #ff9561; padding: 0.45em 0.6em; margin: 0 0.25em; line-height: 1; border-radius: 0.35em;\">\n",
              "    Padua?\n",
              "    <span style=\"font-size: 0.8em; font-weight: bold; line-height: 1; border-radius: 0.35em; vertical-align: middle; margin-left: 0.5rem\">LOC</span>\n",
              "</mark>\n",
              "</br></br>-- \n",
              "<mark class=\"entity\" style=\"background: #ff9561; padding: 0.45em 0.6em; margin: 0 0.25em; line-height: 1; border-radius: 0.35em;\">\n",
              "    Ha\n",
              "    <span style=\"font-size: 0.8em; font-weight: bold; line-height: 1; border-radius: 0.35em; vertical-align: middle; margin-left: 0.5rem\">LOC</span>\n",
              "</mark>\n",
              " algum tempo estou para lhe dizer isto, mas não me atrevia. Não</br>me parece bonito que o nosso \n",
              "<mark class=\"entity\" style=\"background: #ddd; padding: 0.45em 0.6em; margin: 0 0.25em; line-height: 1; border-radius: 0.35em;\">\n",
              "    Bentinho\n",
              "    <span style=\"font-size: 0.8em; font-weight: bold; line-height: 1; border-radius: 0.35em; vertical-align: middle; margin-left: 0.5rem\">PER</span>\n",
              "</mark>\n",
              " ande mettido nos cantos com a</br>filha do _Tartaruga_, e esta é a difficuldade, porque se elles pegam de</br>namoro, a senhora terá muito que lutar para separal-os.</br></br>-- Não acho. Mettidos nos cantos?</br></br>-- É um modo de falar. Em segredinhos, sempre juntos. \n",
              "<mark class=\"entity\" style=\"background: #ddd; padding: 0.45em 0.6em; margin: 0 0.25em; line-height: 1; border-radius: 0.35em;\">\n",
              "    Bentinho\n",
              "    <span style=\"font-size: 0.8em; font-weight: bold; line-height: 1; border-radius: 0.35em; vertical-align: middle; margin-left: 0.5rem\">PER</span>\n",
              "</mark>\n",
              " quasi</br>que não sae de lá. A pequena é uma desmiolada; o pae faz que não vê;</br>tomara \n",
              "<mark class=\"entity\" style=\"background: #ff9561; padding: 0.45em 0.6em; margin: 0 0.25em; line-height: 1; border-radius: 0.35em;\">\n",
              "    elle\n",
              "    <span style=\"font-size: 0.8em; font-weight: bold; line-height: 1; border-radius: 0.35em; vertical-align: middle; margin-left: 0.5rem\">LOC</span>\n",
              "</mark>\n",
              " que as cousas corressem de maneira, que... Comprehendo o</br>seu gesto; a senhora não crê em taes calculos, parece-lhe que todos têm</br>a alma candida...</br></br>-- Mas, \n",
              "<mark class=\"entity\" style=\"background: #ddd; padding: 0.45em 0.6em; margin: 0 0.25em; line-height: 1; border-radius: 0.35em;\">\n",
              "    Sr. José Dias, tenho\n",
              "    <span style=\"font-size: 0.8em; font-weight: bold; line-height: 1; border-radius: 0.35em; vertical-align: middle; margin-left: 0.5rem\">PER</span>\n",
              "</mark>\n",
              " visto os pequenos brincando, e nunca vi</br>nada que faça desconfiar. \n",
              "<mark class=\"entity\" style=\"background: #ff9561; padding: 0.45em 0.6em; margin: 0 0.25em; line-height: 1; border-radius: 0.35em;\">\n",
              "    Basta\n",
              "    <span style=\"font-size: 0.8em; font-weight: bold; line-height: 1; border-radius: 0.35em; vertical-align: middle; margin-left: 0.5rem\">LOC</span>\n",
              "</mark>\n",
              " a edade; \n",
              "<mark class=\"entity\" style=\"background: #ddd; padding: 0.45em 0.6em; margin: 0 0.25em; line-height: 1; border-radius: 0.35em;\">\n",
              "    Bentinho\n",
              "    <span style=\"font-size: 0.8em; font-weight: bold; line-height: 1; border-radius: 0.35em; vertical-align: middle; margin-left: 0.5rem\">PER</span>\n",
              "</mark>\n",
              " mal tem quinze annos.</br>\n",
              "<mark class=\"entity\" style=\"background: #ff9561; padding: 0.45em 0.6em; margin: 0 0.25em; line-height: 1; border-radius: 0.35em;\">\n",
              "    Capitú\n",
              "    <span style=\"font-size: 0.8em; font-weight: bold; line-height: 1; border-radius: 0.35em; vertical-align: middle; margin-left: 0.5rem\">LOC</span>\n",
              "</mark>\n",
              " fez quatorze á semana passada; são dous creançolas. Não se</br>esqueça que foram criados juntos, desde aquella grande enchente, ha</br>dez annos, em que a familia \n",
              "<mark class=\"entity\" style=\"background: #ff9561; padding: 0.45em 0.6em; margin: 0 0.25em; line-height: 1; border-radius: 0.35em;\">\n",
              "    Padua\n",
              "    <span style=\"font-size: 0.8em; font-weight: bold; line-height: 1; border-radius: 0.35em; vertical-align: middle; margin-left: 0.5rem\">LOC</span>\n",
              "</mark>\n",
              " perdeu tanta cousa; \n",
              "<mark class=\"entity\" style=\"background: #7aecec; padding: 0.45em 0.6em; margin: 0 0.25em; line-height: 1; border-radius: 0.35em;\">\n",
              "    d'ahi\n",
              "    <span style=\"font-size: 0.8em; font-weight: bold; line-height: 1; border-radius: 0.35em; vertical-align: middle; margin-left: 0.5rem\">ORG</span>\n",
              "</mark>\n",
              " vieram as</br>nossas relações. Pois eu (Bentinho) hei de crer...? \n",
              "<mark class=\"entity\" style=\"background: #ddd; padding: 0.45em 0.6em; margin: 0 0.25em; line-height: 1; border-radius: 0.35em;\">\n",
              "    Mano Cosme\n",
              "    <span style=\"font-size: 0.8em; font-weight: bold; line-height: 1; border-radius: 0.35em; vertical-align: middle; margin-left: 0.5rem\">PER</span>\n",
              "</mark>\n",
              ", você que acha?</br></br>Tio Cosme respondeu com um «Ora!» que, traduzido em vulgar, queria</br>dizer: «São imaginações do \n",
              "<mark class=\"entity\" style=\"background: #ff9561; padding: 0.45em 0.6em; margin: 0 0.25em; line-height: 1; border-radius: 0.35em;\">\n",
              "    José Dias\n",
              "    <span style=\"font-size: 0.8em; font-weight: bold; line-height: 1; border-radius: 0.35em; vertical-align: middle; margin-left: 0.5rem\">LOC</span>\n",
              "</mark>\n",
              "; os pequenos divertem-se, eu</br>divirto-me; onde está o gamão?»</br></br>-- Sim, creio que o senhor está enganado.</br></br>-- \n",
              "<mark class=\"entity\" style=\"background: #ddd; padding: 0.45em 0.6em; margin: 0 0.25em; line-height: 1; border-radius: 0.35em;\">\n",
              "    Póde\n",
              "    <span style=\"font-size: 0.8em; font-weight: bold; line-height: 1; border-radius: 0.35em; vertical-align: middle; margin-left: 0.5rem\">MISC</span>\n",
              "</mark>\n",
              " ser, minha senhora. \n",
              "<mark class=\"entity\" style=\"background: #ff9561; padding: 0.45em 0.6em; margin: 0 0.25em; line-height: 1; border-radius: 0.35em;\">\n",
              "    Oxalá\n",
              "    <span style=\"font-size: 0.8em; font-weight: bold; line-height: 1; border-radius: 0.35em; vertical-align: middle; margin-left: 0.5rem\">LOC</span>\n",
              "</mark>\n",
              " tenham razão; mas creia que não falei</br>senão depois de muito examinar...</br></br>-- Em todo caso, vae sendo tempo, interrompeu minha mãe; vou tratar de</br>mettel-o no seminario quanto antes.</br></br>-- Bem, uma vez que não perdeu a ideia de o fazer padre, tem-se ganho o</br>principal. \n",
              "<mark class=\"entity\" style=\"background: #ddd; padding: 0.45em 0.6em; margin: 0 0.25em; line-height: 1; border-radius: 0.35em;\">\n",
              "    Bentinho\n",
              "    <span style=\"font-size: 0.8em; font-weight: bold; line-height: 1; border-radius: 0.35em; vertical-align: middle; margin-left: 0.5rem\">PER</span>\n",
              "</mark>\n",
              " ha de satisfazer os desejos de sua mãe. E depois</br>a egreja brasileira tem altos destinos. Não esqueçamos que um bispo</br>presidiu a \n",
              "<mark class=\"entity\" style=\"background: #ff9561; padding: 0.45em 0.6em; margin: 0 0.25em; line-height: 1; border-radius: 0.35em;\">\n",
              "    Constituinte\n",
              "    <span style=\"font-size: 0.8em; font-weight: bold; line-height: 1; border-radius: 0.35em; vertical-align: middle; margin-left: 0.5rem\">LOC</span>\n",
              "</mark>\n",
              ", e que o \n",
              "<mark class=\"entity\" style=\"background: #ddd; padding: 0.45em 0.6em; margin: 0 0.25em; line-height: 1; border-radius: 0.35em;\">\n",
              "    padre Feijó\n",
              "    <span style=\"font-size: 0.8em; font-weight: bold; line-height: 1; border-radius: 0.35em; vertical-align: middle; margin-left: 0.5rem\">PER</span>\n",
              "</mark>\n",
              " governou o imperio...</div></span>"
            ]
          },
          "metadata": {}
        }
      ]
    },
    {
      "cell_type": "code",
      "source": [
        "sent_entity_df = []\n",
        "\n",
        "# Iterando por cada sentença e armazenando o NER para cada sentença\n",
        "for sent in livro_doc.sents:\n",
        "  entity_list = [ent.text for ent in sent.ents]\n",
        "  sent_entity_df.append({\"paragrafo\": sent, \"entidades\": entity_list})\n",
        "\n",
        "sent_entity_df = pd.DataFrame(sent_entity_df)"
      ],
      "metadata": {
        "id": "ZmUePGK-Lexk"
      },
      "execution_count": null,
      "outputs": []
    },
    {
      "cell_type": "code",
      "source": [
        "# pd.set_option('display.max_rows', None)\n",
        "sent_entity_df"
      ],
      "metadata": {
        "colab": {
          "base_uri": "https://localhost:8080/",
          "height": 572
        },
        "id": "ACrnPa1GMt8B",
        "outputId": "69683145-1847-40b2-dd67-bc5b1a752e41"
      },
      "execution_count": null,
      "outputs": [
        {
          "output_type": "execute_result",
          "data": {
            "text/plain": [
              "                                              paragrafo  \\\n",
              "0                             (﻿I, \\n\\n, Do, titulo, .)   \n",
              "1                                                (\\n\\n)   \n",
              "2     (Uma, noite, destas, ,, vindo, da, cidade, par...   \n",
              "3     (Comprimentou-me, ,, sentou-se, ao, pé, de, mi...   \n",
              "4     (A, viagem, era, curta, ,, e, os, \\n, versos, ...   \n",
              "...                                                 ...   \n",
              "5029  (se, te, lembras, bem, da, Capitú, menina, ,, ...   \n",
              "5030  (\\n\\n, E, bem, ,, qualquer, que, seja, a, solu...   \n",
              "5031                (A, terra, lhes, seja, \\n, leve, !)   \n",
              "5032         (Vamos, á, _, Historia, dos, suburbios, .)   \n",
              "5033                               (_, \\n\\n\\n, FIM, \\n)   \n",
              "\n",
              "                              entidades  \n",
              "0                                    []  \n",
              "1                                    []  \n",
              "2     [Engenho Novo, Central, Bentinho]  \n",
              "3                                 [lua]  \n",
              "4                                    []  \n",
              "...                                 ...  \n",
              "5029                           [Capitú]  \n",
              "5030                                 []  \n",
              "5031                                 []  \n",
              "5032                  [Vamos, Historia]  \n",
              "5033                                 []  \n",
              "\n",
              "[5034 rows x 2 columns]"
            ],
            "text/html": [
              "\n",
              "  <div id=\"df-6a4e00a1-c771-4530-9bbc-41b2cb7b4cd5\">\n",
              "    <div class=\"colab-df-container\">\n",
              "      <div>\n",
              "<style scoped>\n",
              "    .dataframe tbody tr th:only-of-type {\n",
              "        vertical-align: middle;\n",
              "    }\n",
              "\n",
              "    .dataframe tbody tr th {\n",
              "        vertical-align: top;\n",
              "    }\n",
              "\n",
              "    .dataframe thead th {\n",
              "        text-align: right;\n",
              "    }\n",
              "</style>\n",
              "<table border=\"1\" class=\"dataframe\">\n",
              "  <thead>\n",
              "    <tr style=\"text-align: right;\">\n",
              "      <th></th>\n",
              "      <th>paragrafo</th>\n",
              "      <th>entidades</th>\n",
              "    </tr>\n",
              "  </thead>\n",
              "  <tbody>\n",
              "    <tr>\n",
              "      <th>0</th>\n",
              "      <td>(﻿I, \\n\\n, Do, titulo, .)</td>\n",
              "      <td>[]</td>\n",
              "    </tr>\n",
              "    <tr>\n",
              "      <th>1</th>\n",
              "      <td>(\\n\\n)</td>\n",
              "      <td>[]</td>\n",
              "    </tr>\n",
              "    <tr>\n",
              "      <th>2</th>\n",
              "      <td>(Uma, noite, destas, ,, vindo, da, cidade, par...</td>\n",
              "      <td>[Engenho Novo, Central, Bentinho]</td>\n",
              "    </tr>\n",
              "    <tr>\n",
              "      <th>3</th>\n",
              "      <td>(Comprimentou-me, ,, sentou-se, ao, pé, de, mi...</td>\n",
              "      <td>[lua]</td>\n",
              "    </tr>\n",
              "    <tr>\n",
              "      <th>4</th>\n",
              "      <td>(A, viagem, era, curta, ,, e, os, \\n, versos, ...</td>\n",
              "      <td>[]</td>\n",
              "    </tr>\n",
              "    <tr>\n",
              "      <th>...</th>\n",
              "      <td>...</td>\n",
              "      <td>...</td>\n",
              "    </tr>\n",
              "    <tr>\n",
              "      <th>5029</th>\n",
              "      <td>(se, te, lembras, bem, da, Capitú, menina, ,, ...</td>\n",
              "      <td>[Capitú]</td>\n",
              "    </tr>\n",
              "    <tr>\n",
              "      <th>5030</th>\n",
              "      <td>(\\n\\n, E, bem, ,, qualquer, que, seja, a, solu...</td>\n",
              "      <td>[]</td>\n",
              "    </tr>\n",
              "    <tr>\n",
              "      <th>5031</th>\n",
              "      <td>(A, terra, lhes, seja, \\n, leve, !)</td>\n",
              "      <td>[]</td>\n",
              "    </tr>\n",
              "    <tr>\n",
              "      <th>5032</th>\n",
              "      <td>(Vamos, á, _, Historia, dos, suburbios, .)</td>\n",
              "      <td>[Vamos, Historia]</td>\n",
              "    </tr>\n",
              "    <tr>\n",
              "      <th>5033</th>\n",
              "      <td>(_, \\n\\n\\n, FIM, \\n)</td>\n",
              "      <td>[]</td>\n",
              "    </tr>\n",
              "  </tbody>\n",
              "</table>\n",
              "<p>5034 rows × 2 columns</p>\n",
              "</div>\n",
              "      <button class=\"colab-df-convert\" onclick=\"convertToInteractive('df-6a4e00a1-c771-4530-9bbc-41b2cb7b4cd5')\"\n",
              "              title=\"Convert this dataframe to an interactive table.\"\n",
              "              style=\"display:none;\">\n",
              "        \n",
              "  <svg xmlns=\"http://www.w3.org/2000/svg\" height=\"24px\"viewBox=\"0 0 24 24\"\n",
              "       width=\"24px\">\n",
              "    <path d=\"M0 0h24v24H0V0z\" fill=\"none\"/>\n",
              "    <path d=\"M18.56 5.44l.94 2.06.94-2.06 2.06-.94-2.06-.94-.94-2.06-.94 2.06-2.06.94zm-11 1L8.5 8.5l.94-2.06 2.06-.94-2.06-.94L8.5 2.5l-.94 2.06-2.06.94zm10 10l.94 2.06.94-2.06 2.06-.94-2.06-.94-.94-2.06-.94 2.06-2.06.94z\"/><path d=\"M17.41 7.96l-1.37-1.37c-.4-.4-.92-.59-1.43-.59-.52 0-1.04.2-1.43.59L10.3 9.45l-7.72 7.72c-.78.78-.78 2.05 0 2.83L4 21.41c.39.39.9.59 1.41.59.51 0 1.02-.2 1.41-.59l7.78-7.78 2.81-2.81c.8-.78.8-2.07 0-2.86zM5.41 20L4 18.59l7.72-7.72 1.47 1.35L5.41 20z\"/>\n",
              "  </svg>\n",
              "      </button>\n",
              "      \n",
              "  <style>\n",
              "    .colab-df-container {\n",
              "      display:flex;\n",
              "      flex-wrap:wrap;\n",
              "      gap: 12px;\n",
              "    }\n",
              "\n",
              "    .colab-df-convert {\n",
              "      background-color: #E8F0FE;\n",
              "      border: none;\n",
              "      border-radius: 50%;\n",
              "      cursor: pointer;\n",
              "      display: none;\n",
              "      fill: #1967D2;\n",
              "      height: 32px;\n",
              "      padding: 0 0 0 0;\n",
              "      width: 32px;\n",
              "    }\n",
              "\n",
              "    .colab-df-convert:hover {\n",
              "      background-color: #E2EBFA;\n",
              "      box-shadow: 0px 1px 2px rgba(60, 64, 67, 0.3), 0px 1px 3px 1px rgba(60, 64, 67, 0.15);\n",
              "      fill: #174EA6;\n",
              "    }\n",
              "\n",
              "    [theme=dark] .colab-df-convert {\n",
              "      background-color: #3B4455;\n",
              "      fill: #D2E3FC;\n",
              "    }\n",
              "\n",
              "    [theme=dark] .colab-df-convert:hover {\n",
              "      background-color: #434B5C;\n",
              "      box-shadow: 0px 1px 3px 1px rgba(0, 0, 0, 0.15);\n",
              "      filter: drop-shadow(0px 1px 2px rgba(0, 0, 0, 0.3));\n",
              "      fill: #FFFFFF;\n",
              "    }\n",
              "  </style>\n",
              "\n",
              "      <script>\n",
              "        const buttonEl =\n",
              "          document.querySelector('#df-6a4e00a1-c771-4530-9bbc-41b2cb7b4cd5 button.colab-df-convert');\n",
              "        buttonEl.style.display =\n",
              "          google.colab.kernel.accessAllowed ? 'block' : 'none';\n",
              "\n",
              "        async function convertToInteractive(key) {\n",
              "          const element = document.querySelector('#df-6a4e00a1-c771-4530-9bbc-41b2cb7b4cd5');\n",
              "          const dataTable =\n",
              "            await google.colab.kernel.invokeFunction('convertToInteractive',\n",
              "                                                     [key], {});\n",
              "          if (!dataTable) return;\n",
              "\n",
              "          const docLinkHtml = 'Like what you see? Visit the ' +\n",
              "            '<a target=\"_blank\" href=https://colab.research.google.com/notebooks/data_table.ipynb>data table notebook</a>'\n",
              "            + ' to learn more about interactive tables.';\n",
              "          element.innerHTML = '';\n",
              "          dataTable['output_type'] = 'display_data';\n",
              "          await google.colab.output.renderOutput(dataTable, element);\n",
              "          const docLink = document.createElement('div');\n",
              "          docLink.innerHTML = docLinkHtml;\n",
              "          element.appendChild(docLink);\n",
              "        }\n",
              "      </script>\n",
              "    </div>\n",
              "  </div>\n",
              "  "
            ]
          },
          "metadata": {},
          "execution_count": 31
        }
      ]
    },
    {
      "cell_type": "code",
      "source": [
        "# criando uma função para filtrar o df por personagens\n",
        "def filtro_entidade(ent_list, char):\n",
        "  return [ent for ent in ent_list\n",
        "          if ent in char]"
      ],
      "metadata": {
        "id": "GgchscLINI8h"
      },
      "execution_count": null,
      "outputs": []
    },
    {
      "cell_type": "code",
      "source": [
        "sent_entity_df['personagens'] = sent_entity_df['entidades'].apply(lambda x: filtro_entidade(x, personagens))\n",
        "\n",
        "# filtrando sentenças sem personagens\n",
        "sent_entity_df_filt = sent_entity_df[sent_entity_df['personagens'].map(len) > 0]\n",
        "sent_entity_df_filt"
      ],
      "metadata": {
        "id": "qYQSV-YYNuYC",
        "colab": {
          "base_uri": "https://localhost:8080/",
          "height": 849
        },
        "outputId": "370526c8-1699-46fc-dc8e-0973d2097b19"
      },
      "execution_count": null,
      "outputs": [
        {
          "output_type": "execute_result",
          "data": {
            "text/plain": [
              "                                              paragrafo  \\\n",
              "2     (Uma, noite, destas, ,, vindo, da, cidade, par...   \n",
              "79    (A, casa, era, a, da, rua, de, Matacavallos, ,...   \n",
              "81    (D., Gloria, ,, a, senhora, persiste, na, idei...   \n",
              "86    (José, Dias, ,, depois, de, alguns, instantes,...   \n",
              "89    (Não, \\n, me, parece, bonito, que, o, nosso, B...   \n",
              "...                                                 ...   \n",
              "4994  (Onze, mezes, depois, ,, Ezequiel, morreu, de,...   \n",
              "5013  (eu, (, Bentinho, ), é, que, ia, buscar, um, \\...   \n",
              "5017  (eu, (, Bentinho, ), ficava, á, porta, ,, espe...   \n",
              "5023  (O, resto, é, saber, se, a, Capitú, da, praia,...   \n",
              "5029  (se, te, lembras, bem, da, Capitú, menina, ,, ...   \n",
              "\n",
              "                              entidades           personagens  \n",
              "2     [Engenho Novo, Central, Bentinho]            [Bentinho]  \n",
              "79               [Bentinho, amam, anno]            [Bentinho]  \n",
              "81                           [Bentinho]            [Bentinho]  \n",
              "86                   [José Dias, Padua]    [José Dias, Padua]  \n",
              "89                           [Bentinho]            [Bentinho]  \n",
              "...                                 ...                   ...  \n",
              "4994    [Ezequiel, Jerusalem, Ezequiel]  [Ezequiel, Ezequiel]  \n",
              "5013                  [Bentinho, Levas]            [Bentinho]  \n",
              "5017                         [Bentinho]            [Bentinho]  \n",
              "5023     [Capitú, Gloria, Matacavallos]              [Capitú]  \n",
              "5029                           [Capitú]              [Capitú]  \n",
              "\n",
              "[768 rows x 3 columns]"
            ],
            "text/html": [
              "\n",
              "  <div id=\"df-3da0c8b0-627c-4f7b-b0aa-0140119353c5\">\n",
              "    <div class=\"colab-df-container\">\n",
              "      <div>\n",
              "<style scoped>\n",
              "    .dataframe tbody tr th:only-of-type {\n",
              "        vertical-align: middle;\n",
              "    }\n",
              "\n",
              "    .dataframe tbody tr th {\n",
              "        vertical-align: top;\n",
              "    }\n",
              "\n",
              "    .dataframe thead th {\n",
              "        text-align: right;\n",
              "    }\n",
              "</style>\n",
              "<table border=\"1\" class=\"dataframe\">\n",
              "  <thead>\n",
              "    <tr style=\"text-align: right;\">\n",
              "      <th></th>\n",
              "      <th>paragrafo</th>\n",
              "      <th>entidades</th>\n",
              "      <th>personagens</th>\n",
              "    </tr>\n",
              "  </thead>\n",
              "  <tbody>\n",
              "    <tr>\n",
              "      <th>2</th>\n",
              "      <td>(Uma, noite, destas, ,, vindo, da, cidade, par...</td>\n",
              "      <td>[Engenho Novo, Central, Bentinho]</td>\n",
              "      <td>[Bentinho]</td>\n",
              "    </tr>\n",
              "    <tr>\n",
              "      <th>79</th>\n",
              "      <td>(A, casa, era, a, da, rua, de, Matacavallos, ,...</td>\n",
              "      <td>[Bentinho, amam, anno]</td>\n",
              "      <td>[Bentinho]</td>\n",
              "    </tr>\n",
              "    <tr>\n",
              "      <th>81</th>\n",
              "      <td>(D., Gloria, ,, a, senhora, persiste, na, idei...</td>\n",
              "      <td>[Bentinho]</td>\n",
              "      <td>[Bentinho]</td>\n",
              "    </tr>\n",
              "    <tr>\n",
              "      <th>86</th>\n",
              "      <td>(José, Dias, ,, depois, de, alguns, instantes,...</td>\n",
              "      <td>[José Dias, Padua]</td>\n",
              "      <td>[José Dias, Padua]</td>\n",
              "    </tr>\n",
              "    <tr>\n",
              "      <th>89</th>\n",
              "      <td>(Não, \\n, me, parece, bonito, que, o, nosso, B...</td>\n",
              "      <td>[Bentinho]</td>\n",
              "      <td>[Bentinho]</td>\n",
              "    </tr>\n",
              "    <tr>\n",
              "      <th>...</th>\n",
              "      <td>...</td>\n",
              "      <td>...</td>\n",
              "      <td>...</td>\n",
              "    </tr>\n",
              "    <tr>\n",
              "      <th>4994</th>\n",
              "      <td>(Onze, mezes, depois, ,, Ezequiel, morreu, de,...</td>\n",
              "      <td>[Ezequiel, Jerusalem, Ezequiel]</td>\n",
              "      <td>[Ezequiel, Ezequiel]</td>\n",
              "    </tr>\n",
              "    <tr>\n",
              "      <th>5013</th>\n",
              "      <td>(eu, (, Bentinho, ), é, que, ia, buscar, um, \\...</td>\n",
              "      <td>[Bentinho, Levas]</td>\n",
              "      <td>[Bentinho]</td>\n",
              "    </tr>\n",
              "    <tr>\n",
              "      <th>5017</th>\n",
              "      <td>(eu, (, Bentinho, ), ficava, á, porta, ,, espe...</td>\n",
              "      <td>[Bentinho]</td>\n",
              "      <td>[Bentinho]</td>\n",
              "    </tr>\n",
              "    <tr>\n",
              "      <th>5023</th>\n",
              "      <td>(O, resto, é, saber, se, a, Capitú, da, praia,...</td>\n",
              "      <td>[Capitú, Gloria, Matacavallos]</td>\n",
              "      <td>[Capitú]</td>\n",
              "    </tr>\n",
              "    <tr>\n",
              "      <th>5029</th>\n",
              "      <td>(se, te, lembras, bem, da, Capitú, menina, ,, ...</td>\n",
              "      <td>[Capitú]</td>\n",
              "      <td>[Capitú]</td>\n",
              "    </tr>\n",
              "  </tbody>\n",
              "</table>\n",
              "<p>768 rows × 3 columns</p>\n",
              "</div>\n",
              "      <button class=\"colab-df-convert\" onclick=\"convertToInteractive('df-3da0c8b0-627c-4f7b-b0aa-0140119353c5')\"\n",
              "              title=\"Convert this dataframe to an interactive table.\"\n",
              "              style=\"display:none;\">\n",
              "        \n",
              "  <svg xmlns=\"http://www.w3.org/2000/svg\" height=\"24px\"viewBox=\"0 0 24 24\"\n",
              "       width=\"24px\">\n",
              "    <path d=\"M0 0h24v24H0V0z\" fill=\"none\"/>\n",
              "    <path d=\"M18.56 5.44l.94 2.06.94-2.06 2.06-.94-2.06-.94-.94-2.06-.94 2.06-2.06.94zm-11 1L8.5 8.5l.94-2.06 2.06-.94-2.06-.94L8.5 2.5l-.94 2.06-2.06.94zm10 10l.94 2.06.94-2.06 2.06-.94-2.06-.94-.94-2.06-.94 2.06-2.06.94z\"/><path d=\"M17.41 7.96l-1.37-1.37c-.4-.4-.92-.59-1.43-.59-.52 0-1.04.2-1.43.59L10.3 9.45l-7.72 7.72c-.78.78-.78 2.05 0 2.83L4 21.41c.39.39.9.59 1.41.59.51 0 1.02-.2 1.41-.59l7.78-7.78 2.81-2.81c.8-.78.8-2.07 0-2.86zM5.41 20L4 18.59l7.72-7.72 1.47 1.35L5.41 20z\"/>\n",
              "  </svg>\n",
              "      </button>\n",
              "      \n",
              "  <style>\n",
              "    .colab-df-container {\n",
              "      display:flex;\n",
              "      flex-wrap:wrap;\n",
              "      gap: 12px;\n",
              "    }\n",
              "\n",
              "    .colab-df-convert {\n",
              "      background-color: #E8F0FE;\n",
              "      border: none;\n",
              "      border-radius: 50%;\n",
              "      cursor: pointer;\n",
              "      display: none;\n",
              "      fill: #1967D2;\n",
              "      height: 32px;\n",
              "      padding: 0 0 0 0;\n",
              "      width: 32px;\n",
              "    }\n",
              "\n",
              "    .colab-df-convert:hover {\n",
              "      background-color: #E2EBFA;\n",
              "      box-shadow: 0px 1px 2px rgba(60, 64, 67, 0.3), 0px 1px 3px 1px rgba(60, 64, 67, 0.15);\n",
              "      fill: #174EA6;\n",
              "    }\n",
              "\n",
              "    [theme=dark] .colab-df-convert {\n",
              "      background-color: #3B4455;\n",
              "      fill: #D2E3FC;\n",
              "    }\n",
              "\n",
              "    [theme=dark] .colab-df-convert:hover {\n",
              "      background-color: #434B5C;\n",
              "      box-shadow: 0px 1px 3px 1px rgba(0, 0, 0, 0.15);\n",
              "      filter: drop-shadow(0px 1px 2px rgba(0, 0, 0, 0.3));\n",
              "      fill: #FFFFFF;\n",
              "    }\n",
              "  </style>\n",
              "\n",
              "      <script>\n",
              "        const buttonEl =\n",
              "          document.querySelector('#df-3da0c8b0-627c-4f7b-b0aa-0140119353c5 button.colab-df-convert');\n",
              "        buttonEl.style.display =\n",
              "          google.colab.kernel.accessAllowed ? 'block' : 'none';\n",
              "\n",
              "        async function convertToInteractive(key) {\n",
              "          const element = document.querySelector('#df-3da0c8b0-627c-4f7b-b0aa-0140119353c5');\n",
              "          const dataTable =\n",
              "            await google.colab.kernel.invokeFunction('convertToInteractive',\n",
              "                                                     [key], {});\n",
              "          if (!dataTable) return;\n",
              "\n",
              "          const docLinkHtml = 'Like what you see? Visit the ' +\n",
              "            '<a target=\"_blank\" href=https://colab.research.google.com/notebooks/data_table.ipynb>data table notebook</a>'\n",
              "            + ' to learn more about interactive tables.';\n",
              "          element.innerHTML = '';\n",
              "          dataTable['output_type'] = 'display_data';\n",
              "          await google.colab.output.renderOutput(dataTable, element);\n",
              "          const docLink = document.createElement('div');\n",
              "          docLink.innerHTML = docLinkHtml;\n",
              "          element.appendChild(docLink);\n",
              "        }\n",
              "      </script>\n",
              "    </div>\n",
              "  </div>\n",
              "  "
            ]
          },
          "metadata": {},
          "execution_count": 33
        }
      ]
    },
    {
      "cell_type": "markdown",
      "source": [
        "## Criando Relacionamentos"
      ],
      "metadata": {
        "id": "7WtGQhHHRn6p"
      }
    },
    {
      "cell_type": "markdown",
      "source": [
        "Aqui iremos criar uma janela de busca com alguns parágrafos e procurar por nomes de personagens dentro da janela."
      ],
      "metadata": {
        "id": "ND8o1cy70hjy"
      }
    },
    {
      "cell_type": "code",
      "source": [
        "janela = 5\n",
        "relacionamentos = []\n",
        "\n",
        "for i in range(sent_entity_df.index[-1]):\n",
        "  end_i = min(i+janela, sent_entity_df.index[-1])\n",
        "  char_list = sum((sent_entity_df_filt.loc[i: end_i].personagens), [])\n",
        "\n",
        "  # removendo relações consigo mesmo\n",
        "  char_unique = [char_list[i] for i in range(len(char_list))\n",
        "                 if (i==0) or char_list[i] != char_list[i-1]]\n",
        "  \n",
        "  # criando uma ideia de fonte e alvo, onde a fonte é quem é referenciado primeiro na sentença e o alvo é quem vem em seguida.\n",
        "  # ex. [Bentinho, Capitú, Escobar, Ezequiel]:\n",
        "  # Bentinho -> Capitú; Capitú -> Escobar; Escobar -> Ezequiel\n",
        "  if len(char_unique) > 1:\n",
        "    for idx, a in enumerate(char_unique[:-1]):\n",
        "      b = char_unique[idx + 1]\n",
        "      relacionamentos.append({\"fonte\": a, \"alvo\": b})\n",
        "\n",
        "relacionamentos_df = pd.DataFrame(relacionamentos)"
      ],
      "metadata": {
        "id": "BpgwA1ZfRgil"
      },
      "execution_count": null,
      "outputs": []
    },
    {
      "cell_type": "code",
      "source": [
        "relacionamentos_df = pd.DataFrame(np.sort(relacionamentos_df.values, axis = 1), columns = relacionamentos_df.columns)\n",
        "relacionamentos_df['valor'] = 1\n",
        "relacionamentos_df = relacionamentos_df.groupby(['fonte', 'alvo'], sort=False, as_index=False).sum()\n",
        "relacionamentos_df.head(10)"
      ],
      "metadata": {
        "colab": {
          "base_uri": "https://localhost:8080/",
          "height": 363
        },
        "id": "wqObVY81yx51",
        "outputId": "020eafab-e4b7-4409-a461-1e40cefd854d"
      },
      "execution_count": null,
      "outputs": [
        {
          "output_type": "execute_result",
          "data": {
            "text/plain": [
              "       fonte       alvo  valor\n",
              "0   Bentinho  José Dias    144\n",
              "1  José Dias      Padua     52\n",
              "2   Bentinho      Padua     23\n",
              "3   Bentinho     Capitú    408\n",
              "4     Capitú      Padua     20\n",
              "5      Cosme    Justina     24\n",
              "6  José Dias    Justina     84\n",
              "7      Cosme  José Dias     27\n",
              "8   Bentinho      Cosme      5\n",
              "9     Capitú  José Dias     91"
            ],
            "text/html": [
              "\n",
              "  <div id=\"df-637b000b-acfb-46de-8c7a-37726a6b6eeb\">\n",
              "    <div class=\"colab-df-container\">\n",
              "      <div>\n",
              "<style scoped>\n",
              "    .dataframe tbody tr th:only-of-type {\n",
              "        vertical-align: middle;\n",
              "    }\n",
              "\n",
              "    .dataframe tbody tr th {\n",
              "        vertical-align: top;\n",
              "    }\n",
              "\n",
              "    .dataframe thead th {\n",
              "        text-align: right;\n",
              "    }\n",
              "</style>\n",
              "<table border=\"1\" class=\"dataframe\">\n",
              "  <thead>\n",
              "    <tr style=\"text-align: right;\">\n",
              "      <th></th>\n",
              "      <th>fonte</th>\n",
              "      <th>alvo</th>\n",
              "      <th>valor</th>\n",
              "    </tr>\n",
              "  </thead>\n",
              "  <tbody>\n",
              "    <tr>\n",
              "      <th>0</th>\n",
              "      <td>Bentinho</td>\n",
              "      <td>José Dias</td>\n",
              "      <td>144</td>\n",
              "    </tr>\n",
              "    <tr>\n",
              "      <th>1</th>\n",
              "      <td>José Dias</td>\n",
              "      <td>Padua</td>\n",
              "      <td>52</td>\n",
              "    </tr>\n",
              "    <tr>\n",
              "      <th>2</th>\n",
              "      <td>Bentinho</td>\n",
              "      <td>Padua</td>\n",
              "      <td>23</td>\n",
              "    </tr>\n",
              "    <tr>\n",
              "      <th>3</th>\n",
              "      <td>Bentinho</td>\n",
              "      <td>Capitú</td>\n",
              "      <td>408</td>\n",
              "    </tr>\n",
              "    <tr>\n",
              "      <th>4</th>\n",
              "      <td>Capitú</td>\n",
              "      <td>Padua</td>\n",
              "      <td>20</td>\n",
              "    </tr>\n",
              "    <tr>\n",
              "      <th>5</th>\n",
              "      <td>Cosme</td>\n",
              "      <td>Justina</td>\n",
              "      <td>24</td>\n",
              "    </tr>\n",
              "    <tr>\n",
              "      <th>6</th>\n",
              "      <td>José Dias</td>\n",
              "      <td>Justina</td>\n",
              "      <td>84</td>\n",
              "    </tr>\n",
              "    <tr>\n",
              "      <th>7</th>\n",
              "      <td>Cosme</td>\n",
              "      <td>José Dias</td>\n",
              "      <td>27</td>\n",
              "    </tr>\n",
              "    <tr>\n",
              "      <th>8</th>\n",
              "      <td>Bentinho</td>\n",
              "      <td>Cosme</td>\n",
              "      <td>5</td>\n",
              "    </tr>\n",
              "    <tr>\n",
              "      <th>9</th>\n",
              "      <td>Capitú</td>\n",
              "      <td>José Dias</td>\n",
              "      <td>91</td>\n",
              "    </tr>\n",
              "  </tbody>\n",
              "</table>\n",
              "</div>\n",
              "      <button class=\"colab-df-convert\" onclick=\"convertToInteractive('df-637b000b-acfb-46de-8c7a-37726a6b6eeb')\"\n",
              "              title=\"Convert this dataframe to an interactive table.\"\n",
              "              style=\"display:none;\">\n",
              "        \n",
              "  <svg xmlns=\"http://www.w3.org/2000/svg\" height=\"24px\"viewBox=\"0 0 24 24\"\n",
              "       width=\"24px\">\n",
              "    <path d=\"M0 0h24v24H0V0z\" fill=\"none\"/>\n",
              "    <path d=\"M18.56 5.44l.94 2.06.94-2.06 2.06-.94-2.06-.94-.94-2.06-.94 2.06-2.06.94zm-11 1L8.5 8.5l.94-2.06 2.06-.94-2.06-.94L8.5 2.5l-.94 2.06-2.06.94zm10 10l.94 2.06.94-2.06 2.06-.94-2.06-.94-.94-2.06-.94 2.06-2.06.94z\"/><path d=\"M17.41 7.96l-1.37-1.37c-.4-.4-.92-.59-1.43-.59-.52 0-1.04.2-1.43.59L10.3 9.45l-7.72 7.72c-.78.78-.78 2.05 0 2.83L4 21.41c.39.39.9.59 1.41.59.51 0 1.02-.2 1.41-.59l7.78-7.78 2.81-2.81c.8-.78.8-2.07 0-2.86zM5.41 20L4 18.59l7.72-7.72 1.47 1.35L5.41 20z\"/>\n",
              "  </svg>\n",
              "      </button>\n",
              "      \n",
              "  <style>\n",
              "    .colab-df-container {\n",
              "      display:flex;\n",
              "      flex-wrap:wrap;\n",
              "      gap: 12px;\n",
              "    }\n",
              "\n",
              "    .colab-df-convert {\n",
              "      background-color: #E8F0FE;\n",
              "      border: none;\n",
              "      border-radius: 50%;\n",
              "      cursor: pointer;\n",
              "      display: none;\n",
              "      fill: #1967D2;\n",
              "      height: 32px;\n",
              "      padding: 0 0 0 0;\n",
              "      width: 32px;\n",
              "    }\n",
              "\n",
              "    .colab-df-convert:hover {\n",
              "      background-color: #E2EBFA;\n",
              "      box-shadow: 0px 1px 2px rgba(60, 64, 67, 0.3), 0px 1px 3px 1px rgba(60, 64, 67, 0.15);\n",
              "      fill: #174EA6;\n",
              "    }\n",
              "\n",
              "    [theme=dark] .colab-df-convert {\n",
              "      background-color: #3B4455;\n",
              "      fill: #D2E3FC;\n",
              "    }\n",
              "\n",
              "    [theme=dark] .colab-df-convert:hover {\n",
              "      background-color: #434B5C;\n",
              "      box-shadow: 0px 1px 3px 1px rgba(0, 0, 0, 0.15);\n",
              "      filter: drop-shadow(0px 1px 2px rgba(0, 0, 0, 0.3));\n",
              "      fill: #FFFFFF;\n",
              "    }\n",
              "  </style>\n",
              "\n",
              "      <script>\n",
              "        const buttonEl =\n",
              "          document.querySelector('#df-637b000b-acfb-46de-8c7a-37726a6b6eeb button.colab-df-convert');\n",
              "        buttonEl.style.display =\n",
              "          google.colab.kernel.accessAllowed ? 'block' : 'none';\n",
              "\n",
              "        async function convertToInteractive(key) {\n",
              "          const element = document.querySelector('#df-637b000b-acfb-46de-8c7a-37726a6b6eeb');\n",
              "          const dataTable =\n",
              "            await google.colab.kernel.invokeFunction('convertToInteractive',\n",
              "                                                     [key], {});\n",
              "          if (!dataTable) return;\n",
              "\n",
              "          const docLinkHtml = 'Like what you see? Visit the ' +\n",
              "            '<a target=\"_blank\" href=https://colab.research.google.com/notebooks/data_table.ipynb>data table notebook</a>'\n",
              "            + ' to learn more about interactive tables.';\n",
              "          element.innerHTML = '';\n",
              "          dataTable['output_type'] = 'display_data';\n",
              "          await google.colab.output.renderOutput(dataTable, element);\n",
              "          const docLink = document.createElement('div');\n",
              "          docLink.innerHTML = docLinkHtml;\n",
              "          element.appendChild(docLink);\n",
              "        }\n",
              "      </script>\n",
              "    </div>\n",
              "  </div>\n",
              "  "
            ]
          },
          "metadata": {},
          "execution_count": 35
        }
      ]
    },
    {
      "cell_type": "markdown",
      "source": [
        "## Análise Gráfica"
      ],
      "metadata": {
        "id": "-zQN4vTM04S8"
      }
    },
    {
      "cell_type": "code",
      "source": [
        "# Criando um gráfico a partir de um dataframe\n",
        "\n",
        "G = nx.from_pandas_edgelist(relacionamentos_df,\n",
        "                            source = 'fonte',\n",
        "                            target = 'alvo',\n",
        "                            edge_attr = 'valor',\n",
        "                            create_using = nx.Graph())"
      ],
      "metadata": {
        "id": "fTxZEQkP0zO8"
      },
      "execution_count": null,
      "outputs": []
    },
    {
      "cell_type": "markdown",
      "source": [
        "### Visualização com o Pyvis"
      ],
      "metadata": {
        "id": "qPCG236W2t93"
      }
    },
    {
      "cell_type": "code",
      "source": [
        "net = Network(notebook = True,\n",
        "              width = '1000px',\n",
        "              height = '700px',\n",
        "              bgcolor = '#222222',\n",
        "              font_color = 'white')\n",
        "\n",
        "# O grau é a quantidade de setas que saem de uma bolota no gráfico\n",
        "# Com isso o gráfico fica mais visível qual personagem tem mais relevância \n",
        "grau_nos = dict(G.degree)\n",
        "nx.set_node_attributes(G, grau_nos, 'size')\n",
        "\n",
        "net.from_nx(G)\n",
        "net.show(dir+'casmurro.html')"
      ],
      "metadata": {
        "colab": {
          "base_uri": "https://localhost:8080/",
          "height": 742
        },
        "id": "7ByJmvtA2zf2",
        "outputId": "83d03c0b-c601-4617-f6a2-808b4b391822"
      },
      "execution_count": null,
      "outputs": [
        {
          "output_type": "execute_result",
          "data": {
            "text/plain": [
              "<IPython.lib.display.IFrame at 0x7f24e389a410>"
            ],
            "text/html": [
              "\n",
              "        <iframe\n",
              "            width=\"1000px\"\n",
              "            height=\"700px\"\n",
              "            src=\"/content/drive/MyDrive/Projeto Casmurro/casmurro.html\"\n",
              "            frameborder=\"0\"\n",
              "            allowfullscreen\n",
              "        ></iframe>\n",
              "        "
            ]
          },
          "metadata": {},
          "execution_count": 37
        }
      ]
    },
    {
      "cell_type": "markdown",
      "source": [
        "### Personagens mais importantes"
      ],
      "metadata": {
        "id": "UOEhyVig64XW"
      }
    },
    {
      "cell_type": "markdown",
      "source": [
        "Graus de centralidade:\n",
        "\n",
        "* Nós com mais graus são mais importantes;\n",
        "\n",
        "* Quem conhece mais gente."
      ],
      "metadata": {
        "id": "d3MviaPmxIBb"
      }
    },
    {
      "cell_type": "code",
      "source": [
        "grau_dict = nx.degree_centrality(G)\n",
        "grau_df = pd.DataFrame.from_dict(grau_dict, orient='index', columns=['Conhecimento'])\n",
        "\n",
        "# Plotando \n",
        "plt.figure(figsize=(20, 20))\n",
        "grau_df.sort_values('Conhecimento', ascending=False).plot(kind='bar')\n",
        "plt.title('Dom Casmurro - Quem conhece mais gente?')\n",
        "plt.savefig(dir+'conhece.png', bbox_inches='tight')\n",
        "plt.show()"
      ],
      "metadata": {
        "colab": {
          "base_uri": "https://localhost:8080/",
          "height": 351
        },
        "id": "UI9Lm-_N69EK",
        "outputId": "52f687fa-da55-45ed-a525-0fcad9190659"
      },
      "execution_count": null,
      "outputs": [
        {
          "output_type": "display_data",
          "data": {
            "text/plain": [
              "<Figure size 1440x1440 with 0 Axes>"
            ]
          },
          "metadata": {}
        },
        {
          "output_type": "display_data",
          "data": {
            "text/plain": [
              "<Figure size 432x288 with 1 Axes>"
            ],
            "image/png": "[encoded data removed]"
          },
          "metadata": {
            "needs_background": "light"
          }
        }
      ]
    },
    {
      "cell_type": "markdown",
      "source": [
        "Centralidade por ponte:\n",
        "\n",
        "* Quão frequente um nó serve de ponte de ligação entre outros nós;\n",
        "\n",
        "* Quem conecta grupos de amigos com outros grupos"
      ],
      "metadata": {
        "id": "-5gnI10jxcZ_"
      }
    },
    {
      "cell_type": "code",
      "source": [
        "prox_dict = nx.betweenness_centrality(G)\n",
        "prox_df = pd.DataFrame.from_dict(prox_dict, orient='index', columns=['Conexões'])\n",
        "\n",
        "# Plotando \n",
        "plt.figure(figsize=(20, 20))\n",
        "prox_df.sort_values('Conexões', ascending=False).plot(kind='bar')\n",
        "plt.title('Dom Casmurro - Quem conecta mais pessoas?')\n",
        "plt.savefig(dir+'conecta.png', bbox_inches='tight')\n",
        "plt.show()"
      ],
      "metadata": {
        "colab": {
          "base_uri": "https://localhost:8080/",
          "height": 351
        },
        "id": "6pUg80Ic8EwF",
        "outputId": "4493bf70-240b-4589-9e58-6dfd582a7f10"
      },
      "execution_count": null,
      "outputs": [
        {
          "output_type": "display_data",
          "data": {
            "text/plain": [
              "<Figure size 1440x1440 with 0 Axes>"
            ]
          },
          "metadata": {}
        },
        {
          "output_type": "display_data",
          "data": {
            "text/plain": [
              "<Figure size 432x288 with 1 Axes>"
            ],
            "image/png": "[encoded data removed]"
          },
          "metadata": {
            "needs_background": "light"
          }
        }
      ]
    },
    {
      "cell_type": "markdown",
      "source": [
        "Centralidade de aproximação:\n",
        "\n",
        "* Quanto demora para uma informação saída de um nó chegar a todos os outros nós;\n",
        "\n",
        "* Quem é mais influente."
      ],
      "metadata": {
        "id": "226Jc9W6xvDL"
      }
    },
    {
      "cell_type": "code",
      "source": [
        "close_dict = nx.closeness_centrality(G)\n",
        "close_df = pd.DataFrame.from_dict(close_dict, orient='index', columns=['Network'])\n",
        "\n",
        "# Plotando \n",
        "plt.figure(figsize=(20, 20))\n",
        "close_df.sort_values('Network', ascending=False).plot(kind='bar')\n",
        "plt.title('Dom Casmurro - Quem é mais influente?')\n",
        "plt.savefig(dir+'influencia.png', bbox_inches='tight')\n",
        "plt.show()"
      ],
      "metadata": {
        "colab": {
          "base_uri": "https://localhost:8080/",
          "height": 351
        },
        "id": "jJGUEPjF8Y_Y",
        "outputId": "56588b72-046d-4e06-b594-3121ff5edf83"
      },
      "execution_count": null,
      "outputs": [
        {
          "output_type": "display_data",
          "data": {
            "text/plain": [
              "<Figure size 1440x1440 with 0 Axes>"
            ]
          },
          "metadata": {}
        },
        {
          "output_type": "display_data",
          "data": {
            "text/plain": [
              "<Figure size 432x288 with 1 Axes>"
            ],
            "image/png": "[encoded data removed]"
          },
          "metadata": {
            "needs_background": "light"
          }
        }
      ]
    },
    {
      "cell_type": "markdown",
      "source": [
        "## Detecção de comunidades"
      ],
      "metadata": {
        "id": "A-GMAIVm-_gM"
      }
    },
    {
      "cell_type": "code",
      "source": [
        "comunidades = community_louvain.best_partition(G)\n",
        "comunidades"
      ],
      "metadata": {
        "colab": {
          "base_uri": "https://localhost:8080/"
        },
        "id": "En5kXnUt--7m",
        "outputId": "53fefe91-54cd-44d5-da8d-bf30914355df"
      },
      "execution_count": null,
      "outputs": [
        {
          "output_type": "execute_result",
          "data": {
            "text/plain": [
              "{'Bentinho': 2,\n",
              " 'Cabral': 0,\n",
              " 'Capitú': 2,\n",
              " 'Cosme': 0,\n",
              " 'D. Fortunata': 2,\n",
              " 'D. Gloria': 2,\n",
              " 'Escobar': 1,\n",
              " 'Ezequiel': 1,\n",
              " 'José Dias': 0,\n",
              " 'Justina': 1,\n",
              " 'Padua': 2,\n",
              " 'Pedro': 1,\n",
              " 'Sancha': 1}"
            ]
          },
          "metadata": {},
          "execution_count": 41
        }
      ]
    },
    {
      "cell_type": "code",
      "source": [
        "com_net = Network(notebook = True,\n",
        "                  width = '1000px',\n",
        "                  height = '700px',\n",
        "                  bgcolor = '#222222',\n",
        "                  font_color = 'white')\n",
        "\n",
        "nx.set_node_attributes(G, comunidades, 'group')\n",
        "\n",
        "com_net.from_nx(G)\n",
        "com_net.show(dir+'comunidades_casmurro.html')"
      ],
      "metadata": {
        "colab": {
          "base_uri": "https://localhost:8080/",
          "height": 742
        },
        "id": "Py6xF4_5Bx-z",
        "outputId": "1565cdcd-deef-40cf-d3c2-fea44225ea63"
      },
      "execution_count": null,
      "outputs": [
        {
          "output_type": "execute_result",
          "data": {
            "text/plain": [
              "<IPython.lib.display.IFrame at 0x7f24e3bbc810>"
            ],
            "text/html": [
              "\n",
              "        <iframe\n",
              "            width=\"1000px\"\n",
              "            height=\"700px\"\n",
              "            src=\"/content/drive/MyDrive/Projeto Casmurro/comunidades_casmurro.html\"\n",
              "            frameborder=\"0\"\n",
              "            allowfullscreen\n",
              "        ></iframe>\n",
              "        "
            ]
          },
          "metadata": {},
          "execution_count": 42
        }
      ]
    },
    {
      "cell_type": "code",
      "source": [
        "from IPython.display import IFrame\n",
        "IFrame(src=dir+'comunidades_casmurro.html', width=900, height=600)"
      ],
      "metadata": {
        "id": "3i5Udjthz807",
        "outputId": "2b3e4e01-a5cc-4c88-8459-1e899325363c",
        "colab": {
          "base_uri": "https://localhost:8080/",
          "height": 642
        }
      },
      "execution_count": null,
      "outputs": [
        {
          "output_type": "execute_result",
          "data": {
            "text/plain": [
              "<IPython.lib.display.IFrame at 0x7f24e287ad90>"
            ],
            "text/html": [
              "\n",
              "        <iframe\n",
              "            width=\"900\"\n",
              "            height=\"600\"\n",
              "            src=\"/content/drive/MyDrive/Projeto Casmurro/comunidades_casmurro.html\"\n",
              "            frameborder=\"0\"\n",
              "            allowfullscreen\n",
              "        ></iframe>\n",
              "        "
            ]
          },
          "metadata": {},
          "execution_count": 43
        }
      ]
    }
  ]
}